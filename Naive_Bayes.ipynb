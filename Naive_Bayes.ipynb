{
 "cells": [
  {
   "cell_type": "code",
   "execution_count": 25,
   "metadata": {
    "collapsed": true
   },
   "outputs": [],
   "source": [
    "import numpy as np\n",
    "import collections\n",
    "from  IPython.core.interactiveshell import InteractiveShell\n",
    "InteractiveShell.ast_node_interactivity = \"all\"\n"
   ]
  },
  {
   "cell_type": "code",
   "execution_count": 26,
   "metadata": {
    "collapsed": true
   },
   "outputs": [],
   "source": [
    "x = np.array([['Sunny','Warm','Normal','Strong','Warm','Same'],\n",
    "              ['Sunny','Warm','High','Strong','Warm','Same'],\n",
    "              ['Rainy','Cold','Normal','Strong','Warm','Change'],\n",
    "              ['Sunny','Warm','High','Strong','Cool','Change']])"
   ]
  },
  {
   "cell_type": "code",
   "execution_count": 27,
   "metadata": {
    "collapsed": true
   },
   "outputs": [],
   "source": [
    "y = ['+','+','-','+']"
   ]
  },
  {
   "cell_type": "code",
   "execution_count": 28,
   "metadata": {
    "collapsed": false
   },
   "outputs": [],
   "source": [
    "attribute_stats=collections.defaultdict(int)\n",
    "for i in range (len(x)):\n",
    "    for j in range(len(x[i])):\n",
    "        attribute_stats[j,x[i][j],y[i]]+=1\n",
    "label_stats=collections.defaultdict(int)"
   ]
  },
  {
   "cell_type": "code",
   "execution_count": 29,
   "metadata": {
    "collapsed": true
   },
   "outputs": [],
   "source": [
    "for label in y:\n",
    "    label_stats[label]+=1"
   ]
  },
  {
   "cell_type": "code",
   "execution_count": 30,
   "metadata": {
    "collapsed": true
   },
   "outputs": [],
   "source": [
    "def prior(label):\n",
    "    return label_stats[label]/len(x)\n"
   ]
  },
  {
   "cell_type": "code",
   "execution_count": 31,
   "metadata": {
    "collapsed": false
   },
   "outputs": [],
   "source": [
    "def likelyhood(attribute_index,attribute_value,label):\n",
    "    p = attribute_stats[attribute_index,attribute_value,label]/label_stats[label]\n",
    "    if p==0:\n",
    "        return 0.0001\n",
    "    return p"
   ]
  },
  {
   "cell_type": "code",
   "execution_count": 32,
   "metadata": {
    "collapsed": true
   },
   "outputs": [],
   "source": [
    "def probability(training_instance,label):\n",
    "    p=1\n",
    "    for i,value in enumerate(training_instance):\n",
    "        p*=likelyhood(i,value,label)\n",
    "    p*=prior(label)\n",
    "    return p"
   ]
  },
  {
   "cell_type": "code",
   "execution_count": 33,
   "metadata": {
    "collapsed": true
   },
   "outputs": [],
   "source": [
    "def predict(instance):\n",
    "    probabilities = [probability(instance,label) for label in set(y)]\n",
    "    i=np.argmax(probabilities)\n",
    "    return list(set(y))[i]"
   ]
  },
  {
   "cell_type": "code",
   "execution_count": 34,
   "metadata": {
    "collapsed": false
   },
   "outputs": [
    {
     "data": {
      "text/plain": [
       "'+'"
      ]
     },
     "execution_count": 34,
     "metadata": {},
     "output_type": "execute_result"
    }
   ],
   "source": [
    "predict(['Rainy','Warm','Normal','Strong','Cool','Same'])"
   ]
  },
  {
   "cell_type": "code",
   "execution_count": null,
   "metadata": {
    "collapsed": true
   },
   "outputs": [],
   "source": []
  }
 ],
 "metadata": {
  "kernelspec": {
   "display_name": "Python 3",
   "language": "python",
   "name": "python3"
  },
  "language_info": {
   "codemirror_mode": {
    "name": "ipython",
    "version": 3
   },
   "file_extension": ".py",
   "mimetype": "text/x-python",
   "name": "python",
   "nbconvert_exporter": "python",
   "pygments_lexer": "ipython3",
   "version": "3.6.0"
  }
 },
 "nbformat": 4,
 "nbformat_minor": 2
}
